{
  "cells": [
    {
      "cell_type": "code",
      "execution_count": null,
      "metadata": {
        "id": "kl-4K4KdBn2a"
      },
      "outputs": [],
      "source": [
        "import pandas as pd\n",
        "import numpy as np\n",
        "import glob\n",
        "import os"
      ]
    },
    {
      "cell_type": "code",
      "execution_count": null,
      "metadata": {
        "colab": {
          "base_uri": "https://localhost:8080/",
          "height": 525
        },
        "id": "uvtHST0GBwsA",
        "outputId": "e4ae1b5d-40a0-4b3c-af12-a6995816bfff"
      },
      "outputs": [],
      "source": [
        "# Path to the directory containing the CSV files\n",
        "dir_path = \"stategreenhousecsv\"\n",
        "\n",
        "# Dictionary to store the DataFrames\n",
        "greenhouseDF = {}\n",
        "\n",
        "#list of all 2 letter abbreviations for all states including District of Columbia\n",
        "shortStates = [ 'AK', 'AL', 'AR', 'AZ', 'CA', 'CO', 'CT', 'DC', 'DE', 'FL', 'GA',\n",
        "           'HI', 'IA', 'ID', 'IL', 'IN', 'KS', 'KY', 'LA', 'MA', 'MD', 'ME',\n",
        "           'MI', 'MN', 'MO', 'MS', 'MT', 'NC', 'ND', 'NE', 'NH', 'NJ', 'NM',\n",
        "           'NV', 'NY', 'OH', 'OK', 'OR', 'PA', 'RI', 'SC', 'SD', 'TN', 'TX',\n",
        "           'UT', 'VA', 'VT', 'WA', 'WI', 'WV', 'WY']\n",
        "\n",
        "#iterator for shortStates\n",
        "statei = 0\n",
        "\n",
        "\n",
        "# Loop through each file in the directory\n",
        "for file_name in os.listdir(dir_path):\n",
        "    if file_name.endswith('.csv'):\n",
        "        # Construct the full file path\n",
        "        file_path = os.path.join(dir_path, file_name)\n",
        "        \n",
        "        # Get the filename without the extension\n",
        "        filename = os.path.splitext(file_name)[0]\n",
        "        \n",
        "        # Create a DataFrame from the CSV file\n",
        "        df = pd.read_csv(file_path)\n",
        "        \n",
        "        # Store the DataFrame in the dictionary with a unique name\n",
        "        #greenhouseDF[filename + \"df\"] = df\n",
        "        greenhouseDF[shortStates[statei]] = df\n",
        "        statei += 1\n",
        "        \n",
        "        # Do something with the DataFrame, e.g. print the first few rows\n",
        "        #print(dataframes[filename + \"df\"].head())\n",
        "\n",
        "print(len(greenhouseDF))\n",
        "print(greenhouseDF['UT'].shape)\n",
        "greenhouseDF['UT']"
      ]
    },
    {
      "cell_type": "code",
      "execution_count": 2,
      "metadata": {
        "id": "r9kf-U_SDgk9"
      },
      "outputs": [],
      "source": [
        "greenhouseDF['UT'].shape"
      ]
    },
    {
      "cell_type": "code",
      "execution_count": 2,
      "metadata": {
        "id": "CNaQ1_3IDJs1"
      },
      "outputs": [],
      "source": [
        "for key, dataframe in greenhouseDF.items():\n",
        "    current_column_name = dataframe.columns[0]\n",
        "\n",
        "    column_mapping = {current_column_name: 'emissions'}\n",
        "\n",
        "    dataframe.rename(columns=column_mapping, inplace=True)\n",
        "\n",
        "greenhouseDF['AZ']"
      ]
    }
  ],
  "metadata": {
    "colab": {
      "provenance": []
    },
    "kernelspec": {
      "display_name": "Python 3",
      "name": "python3"
    },
    "language_info": {
      "codemirror_mode": {
        "name": "ipython",
        "version": 3
      },
      "file_extension": ".py",
      "mimetype": "text/x-python",
      "name": "python",
      "nbconvert_exporter": "python",
      "pygments_lexer": "ipython3",
      "version": "3.10.10"
    }
  },
  "nbformat": 4,
  "nbformat_minor": 0
}
