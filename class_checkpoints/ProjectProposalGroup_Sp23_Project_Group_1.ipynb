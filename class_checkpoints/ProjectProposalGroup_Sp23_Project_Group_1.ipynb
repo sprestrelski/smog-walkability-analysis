{
 "cells": [
  {
   "attachments": {},
   "cell_type": "markdown",
   "metadata": {},
   "source": [
    "# COGS 108 - Final Project Proposal"
   ]
  },
  {
   "attachments": {},
   "cell_type": "markdown",
   "metadata": {},
   "source": [
    "# Names\n",
    "\n",
    "- Jeffrey Wang\n",
    "- Justin Bui\n",
    "- Naasik Jahan\n",
    "- Samantha Prestrelski\n",
    "- Thuan Do\n"
   ]
  },
  {
   "attachments": {},
   "cell_type": "markdown",
   "metadata": {},
   "source": [
    "# Research Question"
   ]
  },
  {
   "attachments": {},
   "cell_type": "markdown",
   "metadata": {},
   "source": [
    "-  Include a specific, clear data science question.\n",
    "-  Make sure what you're measuring (variables) to answer the question is clear\n",
    "\n",
    "What is your research question? Include the specific question you're setting out to answer. This question should be specific, answerable with data, and clear. A general question with specific subquestions is permitted. (1-2 sentences)\n",
    "\n",
    "Does the availability of transportation options other than cars influence smog pollution in the US?\n",
    "\n"
   ]
  },
  {
   "attachments": {},
   "cell_type": "markdown",
   "metadata": {},
   "source": [
    "## Background and Prior Work"
   ]
  },
  {
   "attachments": {},
   "cell_type": "markdown",
   "metadata": {},
   "source": [
    "\n",
    "- Include a general introduction to your topic\n",
    "- Include explanation of what work has been done previously\n",
    "- Include citations or links to previous work\n",
    "\n",
    "This section will present the background and context of your topic and question in a few paragraphs. Include a general introduction to your topic and then describe what information you currently know about the topic after doing your initial research. Include references to other projects who have asked similar questions or approached similar problems. Explain what others have learned in their projects.\n",
    "\n",
    "Find some relevant prior work, and reference those sources, summarizing what each did and what they learned. Even if you think you have a totally novel question, find the most similar prior work that you can and discuss how it relates to your project.\n",
    "\n",
    "References can be research publications, but they need not be. Blogs, GitHub repositories, company websites, etc., are all viable references if they are relevant to your project. It must be clear which information comes from which references. (2-3 paragraphs, including at least 2 references)\n",
    "\n",
    " **Use inline citation through Markdown footnotes to specify which references support which statements** \n",
    "\n",
    "According to the United States Environmental Protection Agency, net emissions of greenhouse gasses from human activities increased by 43% from 1990 to 2015 [^EPA]. Additionally, “nearly 60% of the US carbon dioxide emissions are from passenger cars, S.U.V.s, and pickup trucks” [^NYT]. Increased amounts of greenhouse gasses trapped in the atmosphere lead to warming climates around the world and negatively affect generations of people, plants, and animals. Thus, there is a need for methods to reduce car pollution. While there are methods like reducing the amount of miles driven or driving a less polluting vehicle (ie. electric or hybrid) [^WA], infrastructure development and neighborhood design can encourage citizens to take alternative modes of transportation. \n",
    "To decrease reliance on cars, cities can develop \n",
    "public transportation infrastructure such as bus stations, railways, and trolley services\n",
    "micro mobility infrastructure such as dedicated or separated bike lanes and invest in e-bike or e-scooter sharing services\n",
    "pedestrian infrastructure such as sidewalks, trails, and safe street and crosswalk design\n",
    "A neighborhood designed for safe pedestrian access to grocery stores and other necessary buildings can positively influence overall health ratings, as well as air pollution emissions [^NIH] [^Mayo]. However, even if a city has a high availability of car alternatives, that does not necessarily mean people choose to do so. An NIH study found that there were high walkability and nitric oxide concentrations (vehicle emission markers) near city centers and higher income neighborhoods tended to have lower pollution [^NIH].\n",
    "\n",
    "[^EPA]: https://www.epa.gov/climate-indicators/greenhouse-gases \n",
    "[^Mayo]: https://www.mayoclinic.org/healthy-lifestyle/fitness/in-depth/walking/art-20046261  \n",
    "[^NIH]: https://www.ncbi.nlm.nih.gov/pmc/articles/PMC2801167/\n",
    "[^NYT]: https://www.nytimes.com/2021/01/21/learning/whats-going-on-in-this-graph-climate-friendly-cars.html \n",
    "[^WA]: https://ecology.wa.gov/Issues-and-local-projects/Education-training/What-you-can-do/Reducing-car-pollution\n",
    "\n"
   ]
  },
  {
   "attachments": {},
   "cell_type": "markdown",
   "metadata": {},
   "source": [
    "# Hypothesis\n"
   ]
  },
  {
   "attachments": {},
   "cell_type": "markdown",
   "metadata": {},
   "source": [
    "\n",
    "- Include your team's hypothesis\n",
    "- Ensure that this hypothesis is clear to readers\n",
    "- Explain why you think this will be the outcome (what was your thinking?)\n",
    "\n",
    "What is your main hypothesis/predictions about what the answer to your question is? Briefly explain your thinking. (2-3 sentences)\n",
    "\n",
    "We expect that higher availability of alternative modes of transport should decrease the amount of pollution in cities. We believe that if people have accessible options such as walking and public transportation, there will be less car usage and thus less greenhouse gas pollution."
   ]
  },
  {
   "attachments": {},
   "cell_type": "markdown",
   "metadata": {},
   "source": [
    "# Data"
   ]
  },
  {
   "attachments": {},
   "cell_type": "markdown",
   "metadata": {},
   "source": [
    "1. Explain what the **ideal** dataset you would want to answer this question. (This should include: What variables? How many observations? Who/what/how would these data be collected? How would these data be stored/organized?)\n",
    "\n",
    "The ideal dataset to answer this question would be easily manipulated and cleaned data, or a precleaned dataset, showing availability over the years of alternative options, and another dataset showing the amount of greenhouse gas pollution in a correlated area. We want a lot of data in many different places, ideally for a large amount of years. The data would be some sort of government census, hopefully in a good format like CSV that we can parse easily. \n",
    "\n",
    "1. Search for potential **real** datasets that could provide you with something useful for this project.  You do not have to find every piece of data you will use, but you do need to have demonstrated some idea that (a) this data is gettable and (b) that this data may be different from what your ideal is\n",
    "\n",
    "Below are links to datasets for the United States, which on the national scale. \n",
    "\n",
    "https://catalog.data.gov/dataset/national-greenhouse-gas-emission-inventory - Greenhouse Gas emission for the United States \n",
    "\n",
    "https://catalog.data.gov/dataset/walkability-index - national walkability index \n",
    "\n",
    "https://www.transit.dot.gov/ntd/data-product/monthly-module-adjusted-data-release -national public transportation rides data \n",
    "\n",
    "Below are links to datasets for California, which is only on the state level, these are less ideal but we can use them if need be. \n",
    "\n",
    "https://ww2.arb.ca.gov/ghg-inventory-data -Greenhouse Gas emissions in California \n",
    "\n",
    "https://data.ca.gov/dataset/transportation-to-work -types of transportation taken to work in CA \n",
    "\n",
    "https://data.chhs.ca.gov/dataset/walkable-distance-public-transit-2008-2012 -walkable distance to public transport in CA \n"
   ]
  },
  {
   "attachments": {},
   "cell_type": "markdown",
   "metadata": {},
   "source": [
    "# Ethics & Privacy"
   ]
  },
  {
   "attachments": {},
   "cell_type": "markdown",
   "metadata": {},
   "source": [
    "- Thoughtful discussion of ethical concerns included\n",
    "- Ethical concerns consider the whole data science process (question asked, data collected, data being used, the bias in data, analysis, post-analysis, etc.)\n",
    "- How your group handled bias/ethical concerns clearly described\n",
    "\n",
    "Acknowledge and address any ethics & privacy related issues of your question(s), proposed dataset(s), and/or analyses. Use the information provided in lecture to guide your group discussion and thinking. If you need further guidance, check out [Deon's Ethics Checklist](http://deon.drivendata.org/#data-science-ethics-checklist). In particular:\n",
    "\n",
    "- Are there any biases/privacy/terms of use issues with the data you propsed?\n",
    "- Are there potential biases in your dataset(s), in terms of who it composes, and how it was collected, that may be problematic in terms of it allowing for equitable analysis? (For example, does your data exclude particular populations, or is it likely to reflect particular human biases in a way that could be a problem?)\n",
    "- How will you set out to detect these specific biases before, during, and after/when communicating your analysis?\n",
    "- Are there any other issues related to your topic area, data, and/or analyses that are potentially problematic in terms of data privacy and equitable impact?\n",
    "- How will you handle issues you identified?\n",
    "\n",
    "There shouldn’t be any privacy/terms of use issues, as the datasets we used are open to the public, and they are all government datasets, meaning people probably consented to their use when they were surveyed. We don’t anticipate any issues that will be problematic to data privacy for the same reasons.\n",
    "There might be possible biases, because we are only including data in America (we plan to use the national datasets), and America is a very car-centric country. However, this is the point, we want to measure it in America specifically because we are car-centric, and we want to see if the car focus of our country creates more pollution, and if providing more alternative options would decrease it. \n",
    "\n",
    "We don’t think there will be biases related to equitable analysis, because government surveys attempt to reach as many people as possible. There could be the event where certain more rural places have less responses to surveys, because they are more out of the way, and maybe more rich/educated people would respond to a survey. In addition to that, maybe more low-income areas would use public transportation if cars are too expensive. \n",
    "We could also compare the data from place to place(e.g. One with more public transport than another), and see if there are noticeable differences. Though this might be an issue as well, since the amount of places with public transportation are far and few between, mostly being in cities located on the Eastern Seaboard, which may make relevant comparisons more difficult (especially with the Western US, which was largely expanded during the post WWII years that emphasized car culture and highway construction).\n",
    "\n",
    "Because we are trying to use national datasets, we can hopefully encompass both high-income and low-income areas, to fix the issue of income bias, and the idea of survey bias should be acknowledged, but we don’t really know how we would include people in data who wouldn’t normally respond to a survey anyway, so this is likely the best option.\n",
    "\n",
    "We could also handle options we’ve identified by perhaps finding more data or find other comparable places, perhaps in similar nations like Canada which are very close in culture and construction as well. \n"
   ]
  },
  {
   "attachments": {},
   "cell_type": "markdown",
   "metadata": {},
   "source": []
  },
  {
   "attachments": {},
   "cell_type": "markdown",
   "metadata": {},
   "source": [
    "# Team Expectations "
   ]
  },
  {
   "attachments": {},
   "cell_type": "markdown",
   "metadata": {},
   "source": [
    "\n",
    "Read over the [COGS108 Team Policies](https://github.com/COGS108/Projects/blob/master/COGS108_TeamPolicies.md) individually. Then, include your group’s expectations of one another for successful completion of your COGS108 project below. Discuss and agree on what all of your expectations are. Discuss how your team will communicate throughout the quarter and consider how you will communicate respectfully should conflicts arise. By including each member’s name above and by adding their name to the submission, you are indicating that you have read the COGS108 Team Policies, accept your team’s expectations below, and have every intention to fulfill them. These expectations are for your team’s use and benefit — they won’t be graded for their details.\n",
    "\n",
    "* *We will communicate through Discord and use collaboration platforms like Google Docs and GitHub to share work.*\n",
    "* *We will complete our assigned work in a timely manner*\n",
    "* *We will communicate to each other in advance if we are not able to finish our work in time.*\n",
    "* *We will check in with each other weekly to communicate any struggles we are having so that we can help each other out.*\n",
    "* *We will resolve issues democratically and civilly, and make large decisions by consensus.*\n",
    "* *Weekly meetings Monday, 8pm*\n",
    "\n",
    "* ..."
   ]
  },
  {
   "attachments": {},
   "cell_type": "markdown",
   "metadata": {},
   "source": [
    "# Project Timeline Proposal"
   ]
  },
  {
   "attachments": {},
   "cell_type": "markdown",
   "metadata": {},
   "source": []
  },
  {
   "attachments": {},
   "cell_type": "markdown",
   "metadata": {},
   "source": [
    "Specify your team's specific project timeline. An example timeline has been provided. Changes the dates, times, names, and details to fit your group's plan.\n",
    "\n",
    "If you think you will need any special resources or training outside what we have covered in COGS 108 to solve your problem, then your proposal should state these clearly. For example, if you have selected a problem that involves implementing multiple neural networks, please state this so we can make sure you know what you’re doing and so we can point you to resources you will need to implement your project. Note that you are not required to use outside methods.\n",
    "\n",
    "\n",
    "\n",
    "| Meeting Date  | Meeting Time| Completed Before Meeting  | Discuss at Meeting |\n",
    "|---|---|---|---|\n",
    "| 5/3 |  8 PM | Read & Think about COGS 108 expectations; brainstorm topics/questions  | Determine best form of communication; Discuss and decide on final project topic; discuss hypothesis; begin background research; Turn in project proposal | \n",
    "| 5/8 |  8 PM |  Do background research on topic; Assign group members to work on each specific dataset | Discuss ideal dataset(s) and ethics; Discuss Wrangling and possible analytical approaches | \n",
    "| 5/15  | 8 PM  | Import & Wrangle Data   | Work on and submit work for Checkpoint #1: Data (Due May 17)   |\n",
    "| 5/22  | 8 PM  | Finalize/make edits to wrangling data, begin work on EDA | Review/Edit wrangling; Discuss EDA and Analysis Plan   |\n",
    "| 5/29  | 8 PM | Finalize EDA and Analysis | Discuss/edit Analysis; Work on and complete Checkpoint #2: EDA (Due May 31) |\n",
    "| 6/5 | 8 PM  | Make corrections to analysis; start thinking about results/conclusion/discussion| Discuss/edit analysis, start assigning tasks for results/conclusion/discussion |\n",
    "| 6/12  | 8 PM  | Review individual assigned parts | Review results, conclusion, and discussion as a group |\n",
    "| 6/14 | 8 PM | Review whole project individually | Review whole project as a group, Turn in Final Project, Group Project Surveys, Video, and Post-Course Survey |"
   ]
  }
 ],
 "metadata": {
  "kernelspec": {
   "display_name": "Python 3",
   "language": "python",
   "name": "python3"
  },
  "language_info": {
   "codemirror_mode": {
    "name": "ipython",
    "version": 3
   },
   "file_extension": ".py",
   "mimetype": "text/x-python",
   "name": "python",
   "nbconvert_exporter": "python",
   "pygments_lexer": "ipython3",
   "version": "3.9.16"
  }
 },
 "nbformat": 4,
 "nbformat_minor": 2
}
